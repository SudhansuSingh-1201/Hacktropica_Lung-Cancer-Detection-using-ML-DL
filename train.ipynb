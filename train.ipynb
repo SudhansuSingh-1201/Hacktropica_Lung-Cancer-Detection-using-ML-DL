{
 "cells": [
  {
   "cell_type": "code",
   "execution_count": 1,
   "id": "4c7e51d1-52a8-4527-a618-9bf8aaaff461",
   "metadata": {},
   "outputs": [],
   "source": [
    "import tensorflow as tf\n",
    "import numpy as np\n",
    "import matplotlib.pyplot as plt\n",
    "import seaborn as sns"
   ]
  },
  {
   "cell_type": "code",
   "execution_count": 2,
   "id": "3b46475d-4034-4a3a-9526-bd089408f017",
   "metadata": {},
   "outputs": [
    {
     "name": "stdout",
     "output_type": "stream",
     "text": [
      "{(567, 525), (187, 213), (195, 226), (195, 235), (178, 173), (241, 220), (1472, 1799), (176, 249), (885, 1036), (198, 249), (199, 214), (1655, 2000), (1270, 1292), (1453, 2051), (798, 906), (113, 138), (160, 231), (982, 1261), (300, 400), (169, 218), (575, 577), (1857, 2000), (215, 194), (1805, 2200), (1474, 1692), (225, 226), (1971, 2498), (154, 184), (155, 149), (173, 197), (256, 204), (194, 220), (194, 229), (1024, 1235), (195, 203), (176, 199), (183, 247), (1862, 1962), (179, 213), (120, 145), (180, 196), (198, 244), (1693, 2278), (164, 251), (200, 192), (192, 188), (109, 181), (98, 144), (201, 255), (153, 187), (184, 202), (847, 1040), (173, 183), (237, 195), (183, 224), (800, 955), (195, 216), (557, 541), (214, 229), (164, 210), (199, 186), (156, 215), (109, 140), (199, 204), (210, 204), (209, 245), (221, 210), (1402, 1401), (150, 186), (509, 613), (224, 224), (113, 146), (799, 842), (169, 199), (202, 196), (712, 972), (3368, 2800), (931, 998), (1538, 2493), (172, 204), (221, 246), (163, 232), (882, 876), (229, 177), (738, 719), (1674, 1743), (144, 218), (195, 211), (235, 247), (1375, 1806), (195, 220), (179, 203), (156, 201), (1618, 1582), (145, 210), (179, 221), (177, 251), (149, 189), (180, 204), (232, 205), (988, 1024), (189, 243), (201, 245), (1240, 1245), (205, 224), (205, 233), (2195, 2200), (151, 234), (843, 907), (196, 251), (208, 234), (2539, 2958), (198, 211), (185, 241), (164, 218), (188, 185), (216, 256), (666, 703), (209, 217), (220, 217), (1508, 1800), (1282, 1210), (179, 216), (197, 224), (732, 895), (209, 235), (232, 200), (189, 229), (197, 242), (2953, 3604), (213, 205), (221, 218), (201, 249), (1163, 1127), (221, 227), (170, 243), (2962, 2987), (172, 185), (200, 253), (183, 182), (171, 226), (1231, 1109), (194, 200), (1611, 1677), (194, 218), (214, 196), (152, 212), (196, 246), (208, 220), (179, 184), (888, 882), (145, 200), (2610, 1921), (251, 218), (197, 210), (157, 183), (678, 681), (160, 179), (2339, 2348), (160, 188), (186, 237), (1343, 1300), (149, 197), (160, 197), (182, 194), (1420, 1440), (224, 218), (182, 212), (100, 170), (973, 1474), (112, 144), (204, 227), (152, 189), (183, 204), (2539, 2912), (152, 198), (215, 236), (216, 210), (609, 550), (116, 141), (198, 192), (235, 241), (208, 224), (440, 610), (1816, 1650), (108, 146), (209, 198), (193, 244), (765, 815), (156, 204), (189, 201), (185, 249), (220, 216), (2520, 2516), (224, 186), (913, 1064), (330, 362), (1010, 1024), (1024, 1160), (366, 446), (2250, 2521), (163, 203), (1522, 1800), (203, 248), (390, 492), (247, 193), (212, 235), (204, 231), (204, 240), (164, 185), (216, 223), (144, 216), (762, 894), (216, 232), (185, 226), (833, 954), (201, 189), (186, 200), (137, 195), (739, 767), (170, 192), (186, 218), (197, 218), (795, 927), (242, 217), (4095, 3342), (178, 232), (182, 202), (169, 241), (576, 516), (200, 256), (204, 217), (194, 194), (196, 213), (181, 224), (2196, 2163), (196, 222), (1024, 1020), (145, 167), (237, 250), (671, 780), (226, 250), (166, 208), (806, 834), (1800, 1772), (186, 186), (177, 217), (582, 522), (1648, 2150), (2708, 3600), (178, 209), (1600, 1594), (199, 241), (230, 256), (224, 185), (190, 183), (219, 228), (148, 186), (200, 233), (163, 193), (231, 229), (1333, 1118), (695, 849), (161, 241), (172, 241), (203, 256), (973, 1050), (705, 732), (1969, 2497), (685, 683), (193, 184), (181, 228), (144, 188), (580, 499), (154, 220), (196, 235), (1024, 1024), (842, 1133), (177, 194), (208, 209), (615, 685), (208, 218), (2608, 2358), (956, 1280), (189, 195), (1294, 1168), (1646, 1974), (210, 227), (230, 242), (218, 240), (200, 201), (218, 249), (128, 194), (2466, 2539), (200, 210), (163, 170), (1703, 1690), (272, 324), (203, 215), (182, 192), (139, 221), (192, 224), (212, 202), (129, 195), (211, 246), (212, 211), (184, 229), (534, 500), (679, 827), (196, 203), (204, 216), (152, 178), (834, 859), (225, 248), (2190, 2567), (196, 230), (226, 231), (173, 228), (154, 224), (835, 842), (156, 157), (208, 204), (185, 202), (197, 167), (166, 198), (816, 999), (2880, 2376), (754, 1024), (214, 256), (4032, 3024), (186, 194), (218, 226), (188, 231), (199, 231), (430, 500), (651, 913), (1589, 2099), (169, 217), (129, 181), (222, 232), (1482, 1982), (2703, 2217), (215, 211), (1570, 1695), (1186, 1422), (1969, 2496), (215, 220), (196, 216), (1466, 1723), (166, 184), (173, 232), (678, 615), (743, 861), (177, 193), (229, 231), (230, 205), (1483, 2059), (195, 256), (1468, 1512), (179, 248), (188, 226), (211, 200), (203, 205), (149, 234), (891, 880), (212, 183), (203, 214), (172, 208), (169, 221), (215, 188), (212, 201), (1056, 1051), (161, 235), (173, 200), (162, 200), (181, 213), (245, 216), (196, 202), (797, 958), (245, 225), (173, 218), (122, 145), (183, 250), (217, 252), (195, 215), (165, 214), (1305, 1117), (567, 523), (180, 199), (199, 212), (179, 243), (1303, 1458), (136, 183), (210, 221), (734, 892), (757, 857), (147, 192), (168, 224), (1455, 1991), (180, 235), (232, 236), (368, 444), (192, 209), (233, 210), (181, 172), (172, 203), (1969, 2221), (630, 700), (225, 215), (1828, 2200), (776, 1001), (233, 237), (554, 561), (662, 890), (194, 227), (183, 227), (236, 242), (214, 205), (217, 229), (1024, 1233), (173, 204), (2840, 2972), (1330, 1187), (185, 187), (237, 234), (189, 166), (188, 198), (3028, 3028), (218, 220), (1779, 1800), (198, 251), (228, 252), (967, 1000), (157, 210), (168, 210), (1632, 1610), (1517, 1534), (180, 221), (219, 203), (200, 199), (148, 161), (2465, 3039), (221, 240), (841, 1107), (161, 216), (196, 183), (153, 212), (165, 177), (842, 1090), (1308, 1652), (325, 333), (194, 240), (226, 220), (434, 487), (133, 230), (582, 483), (93, 166), (590, 734), (164, 217), (199, 184), (179, 224), (191, 189), (631, 790), (2413, 2341), (188, 202), (1019, 1024), (157, 196), (3001, 2511), (188, 211), (197, 241), (845, 969), (180, 216), (200, 194), (2388, 2680), (203, 199), (213, 231), (172, 193), (153, 189), (233, 209), (714, 900), (1017, 1337), (161, 202), (150, 211), (370, 443), (244, 227), (205, 245), (183, 208), (341, 416), (787, 902), (153, 216), (566, 525), (1442, 1727), (202, 230), (214, 195), (1024, 1223), (245, 210), (214, 204), (194, 235), (214, 213), (152, 229), (198, 205), (247, 256), (188, 179), (199, 179), (1831, 2200), (135, 185), (185, 253), (1974, 2267), (793, 945), (1613, 1492), (701, 1109), (209, 229), (657, 657), (1926, 2199), (200, 180), (2338, 2400), (160, 205), (1112, 1484), (1970, 2498), (161, 188), (597, 737), (213, 235), (183, 194), (213, 244), (171, 238), (171, 247), (194, 212), (198, 182), (1022, 1294), (179, 187), (164, 198), (1751, 2495), (179, 196), (4757, 5623), (605, 862), (557, 556), (199, 192), (228, 246), (220, 242), (2000, 2000), (1918, 2199), (2539, 3050), (268, 291), (209, 251), (255, 218), (168, 204), (201, 256), (213, 230), (171, 224), (246, 227), (1330, 1796), (2639, 2755), (524, 500), (182, 242), (235, 217), (613, 694), (198, 177), (183, 225), (901, 981), (214, 203), (198, 186), (600, 495), (247, 237), (227, 231), (187, 195), (164, 193), (216, 231), (2385, 2466), (557, 533), (185, 234), (193, 247), (193, 256), (168, 181), (167, 213), (209, 228), (209, 237), (221, 202), (1080, 1333), (197, 244), (243, 211), (1471, 1313), (232, 220), (171, 201), (224, 216), (171, 210), (512, 512), (2276, 2680), (222, 255), (954, 955), (1022, 1019), (146, 162), (208, 213), (93, 137), (216, 235), (227, 235), (663, 784), (179, 195), (198, 199), (164, 197), (907, 906), (208, 240), (1326, 1384), (899, 902), (1246, 1513), (220, 214), (186, 212), (240, 201), (167, 217), (664, 785), (750, 788), (178, 226), (213, 202), (171, 196), (163, 192), (153, 169), (182, 205), (462, 497), (212, 224), (1439, 1800), (462, 506), (1395, 1205), (231, 255), (1031, 1337), (216, 203), (132, 231), (2197, 2665), (702, 780), (204, 256), (216, 221), (144, 214), (226, 253), (663, 779), (177, 220), (185, 233), (197, 198), (167, 203), (189, 212), (178, 221), (243, 201), (213, 197), (200, 227), (842, 1024), (171, 200), (203, 232), (1969, 2244), (1130, 1180), (192, 241), (194, 183), (203, 250), (141, 177), (246, 230), (876, 882), (2765, 2318), (216, 198), (196, 229), (1447, 1884), (227, 216), (196, 247), (179, 176), (833, 938), (1792, 1528), (155, 224), (1668, 1641), (852, 817), (1264, 1399), (659, 651), (1970, 1534), (755, 875), (137, 188), (238, 249), (372, 338), (2516, 3028), (243, 196), (210, 248), (178, 225), (973, 972), (148, 193), (182, 195), (171, 204), (222, 240), (194, 169), (169, 234), (391, 436), (234, 242), (203, 245), (215, 210), (739, 643), (183, 187), (462, 496), (204, 219), (152, 181), (1062, 1296), (512, 582), (193, 200), (185, 196), (435, 478), (155, 192), (216, 220), (434, 528), (821, 797), (177, 228), (167, 193), (189, 193), (1272, 1645), (3408, 2800), (1235, 1507), (2539, 3007), (1328, 1415), (230, 249), (199, 243), (2336, 2836), (207, 256), (99, 165), (231, 186), (211, 217), (242, 232), (211, 226), (663, 881), (441, 441), (151, 184), (200, 235), (234, 237), (2466, 3040), (203, 231), (215, 196), (204, 196), (325, 504), (1237, 1552), (215, 205), (2541, 3052), (212, 218), (184, 236), (181, 212), (172, 243), (173, 208), (212, 227), (196, 219), (1448, 1592), (204, 232), (226, 229), (125, 186), (166, 187), (193, 204), (1463, 1989), (3480, 4248), (195, 241), (397, 474), (177, 214), (167, 179), (186, 192), (1800, 1787), (136, 182), (118, 146), (218, 233), (135, 226), (230, 244), (1600, 1600), (235, 331), (1146, 1262), (180, 243), (210, 256), (200, 221), (184, 204), (136, 218), (192, 217), (204, 182), (203, 226), (1938, 2498), (211, 239), (1482, 1989), (162, 194), (3520, 4280), (173, 203), (799, 894), (2320, 2828), (797, 961), (173, 212), (172, 256), (173, 221), (226, 224), (2315, 2493), (165, 217), (342, 417), (1390, 2000), (226, 214), (195, 227), (214, 240), (195, 236), (230, 203), (229, 247), (241, 212), (195, 245), (118, 132), (195, 254), (645, 701), (1285, 1992), (178, 192), (189, 192), (147, 186), (200, 189), (1835, 2386), (1710, 1708), (1080, 1303), (199, 233), (182, 162), (734, 895), (1961, 1955), (140, 156), (234, 209), (255, 241), (1412, 1404), (219, 229), (184, 208), (181, 184), (161, 215), (196, 182), (224, 253), (203, 230), (1769, 1650), (1611, 1213), (165, 194), (1969, 2498), (196, 209), (248, 210), (181, 220), (217, 241), (225, 254), (173, 216), (114, 139), (1852, 2169), (103, 148), (165, 230), (177, 195), (241, 198), (177, 204), (249, 220), (187, 236), (179, 232), (189, 178), (198, 245), (326, 440), (180, 215), (700, 888), (199, 228), (218, 241), (211, 202), (211, 211), (184, 194), (200, 211), (232, 243), (1505, 1837), (172, 201), (3408, 4200), (756, 685), (205, 244), (215, 199), (1200, 1079), (196, 195), (233, 244), (134, 220), (185, 167), (163, 256), (217, 236), (245, 218), (225, 249), (237, 214), (196, 204), (1933, 2000)}\n"
     ]
    }
   ],
   "source": [
    "import os\n",
    "import cv2\n",
    "\n",
    "folder_path = r\"C:\\Users\\mduma\\OneDrive\\Desktop\\hacktropica\\Lung_Cancer_Dataset_augmented\\train\\Corona Virus Disease\"\n",
    "\n",
    "\n",
    "sizes = []\n",
    "\n",
    "for img_name in os.listdir(folder_path):\n",
    "    img_path = os.path.join(folder_path ,img_name)\n",
    "    img = cv2.imread(img_path)\n",
    "    if img is not None:\n",
    "        sizes.append(img.shape[:2])  # (height, width)\n",
    "\n",
    "print(set(sizes))"
   ]
  },
  {
   "cell_type": "markdown",
   "id": "ad6a0eb3-aaae-4e91-b07b-1c96f64483ec",
   "metadata": {},
   "source": [
    "### Data processing"
   ]
  },
  {
   "cell_type": "code",
   "execution_count": 3,
   "id": "54fb1331-5f92-499a-9d71-67bf3f01a842",
   "metadata": {},
   "outputs": [
    {
     "name": "stdout",
     "output_type": "stream",
     "text": [
      "Found 6054 files belonging to 5 classes.\n"
     ]
    }
   ],
   "source": [
    "training_set = tf.keras.utils.image_dataset_from_directory(\n",
    "    'train',\n",
    "    labels=\"inferred\",\n",
    "    label_mode=\"categorical\",\n",
    "    class_names=None,\n",
    "    color_mode=\"rgb\",      #for x-ray use grayscale and for other image use rgb\n",
    "    batch_size=32,\n",
    "    image_size=(128, 128),\n",
    "    shuffle=True,\n",
    "    seed=None,\n",
    "    validation_split=None,\n",
    "    subset=None,\n",
    "    interpolation=\"bilinear\",\n",
    "    follow_links=False,\n",
    "    crop_to_aspect_ratio=False\n",
    ")"
   ]
  },
  {
   "cell_type": "code",
   "execution_count": 5,
   "id": "8e9eece0-eef0-49aa-909b-55d8193564d1",
   "metadata": {},
   "outputs": [
    {
     "name": "stdout",
     "output_type": "stream",
     "text": [
      "Found 2015 files belonging to 5 classes.\n"
     ]
    }
   ],
   "source": [
    "validation_set = tf.keras.utils.image_dataset_from_directory(\n",
    "    'val',\n",
    "    labels=\"inferred\",\n",
    "    label_mode=\"categorical\",\n",
    "    class_names=None,\n",
    "    color_mode=\"rgb\",  #for x-ray use grayscale and for other image use rgb\n",
    "    batch_size=32,\n",
    "    image_size=(128, 128),\n",
    "    shuffle=True,\n",
    "    seed=None,\n",
    "    validation_split=None,\n",
    "    subset=None,\n",
    "    interpolation=\"bilinear\",\n",
    "    follow_links=False,\n",
    "    crop_to_aspect_ratio=False\n",
    ")\n"
   ]
  },
  {
   "attachments": {},
   "cell_type": "markdown",
   "id": "67b5f153-3424-4e73-8834-e8a4c968d9b3",
   "metadata": {},
   "source": [
    "### Model Building\n",
    "\n"
   ]
  },
  {
   "cell_type": "code",
   "execution_count": 8,
   "id": "80987d49-10d2-4d2f-afe8-572c1861859f",
   "metadata": {},
   "outputs": [],
   "source": [
    "cnn=tf.keras.models.Sequential()"
   ]
  },
  {
   "cell_type": "markdown",
   "id": "89f8e4de-b6eb-40d1-8bed-6542bb136112",
   "metadata": {},
   "source": [
    "### Building Convunational Layer\n",
    "\n"
   ]
  },
  {
   "cell_type": "code",
   "execution_count": 11,
   "id": "f384d9cc-6526-4c87-be83-741d1e963fd4",
   "metadata": {},
   "outputs": [
    {
     "name": "stderr",
     "output_type": "stream",
     "text": [
      "C:\\Users\\mduma\\anaconda3\\Lib\\site-packages\\keras\\src\\layers\\convolutional\\base_conv.py:107: UserWarning: Do not pass an `input_shape`/`input_dim` argument to a layer. When using Sequential models, prefer using an `Input(shape)` object as the first layer in the model instead.\n",
      "  super().__init__(activity_regularizer=activity_regularizer, **kwargs)\n"
     ]
    }
   ],
   "source": [
    "cnn.add(tf.keras.layers.Conv2D(filters=32,kernel_size=3,padding='same',activation='relu',input_shape=[128,128,3]))\n",
    "cnn.add(tf.keras.layers.Conv2D(filters=32,kernel_size=3,activation='relu'))\n",
    "cnn.add(tf.keras.layers.MaxPool2D(pool_size=2,strides=2))"
   ]
  },
  {
   "cell_type": "code",
   "execution_count": 13,
   "id": "4abada73-1086-4212-9952-1445f9d72b0b",
   "metadata": {},
   "outputs": [],
   "source": [
    "cnn.add(tf.keras.layers.Conv2D(filters=64,kernel_size=3,padding='same',activation='relu',input_shape=[128,128,3]))\n",
    "cnn.add(tf.keras.layers.Conv2D(filters=64,kernel_size=3,activation='relu'))\n",
    "cnn.add(tf.keras.layers.MaxPool2D(pool_size=2,strides=2))"
   ]
  },
  {
   "cell_type": "code",
   "execution_count": 15,
   "id": "8e570a6d-00c9-40bd-b9da-224a8b144baa",
   "metadata": {},
   "outputs": [],
   "source": [
    "cnn.add(tf.keras.layers.Conv2D(filters=128,kernel_size=3,padding='same',activation='relu',input_shape=[128,128,3]))\n",
    "cnn.add(tf.keras.layers.Conv2D(filters=128,kernel_size=3,activation='relu'))\n",
    "cnn.add(tf.keras.layers.MaxPool2D(pool_size=2,strides=2))"
   ]
  },
  {
   "cell_type": "code",
   "execution_count": 17,
   "id": "6d39a1c6-6a24-4d62-9da4-a9f2a21429c0",
   "metadata": {},
   "outputs": [],
   "source": [
    "cnn.add(tf.keras.layers.Conv2D(filters=264,kernel_size=3,padding='same',activation='relu',input_shape=[128,128,3]))\n",
    "cnn.add(tf.keras.layers.Conv2D(filters=264,kernel_size=3,activation='relu'))\n",
    "cnn.add(tf.keras.layers.MaxPool2D(pool_size=2,strides=2))"
   ]
  },
  {
   "cell_type": "code",
   "execution_count": 19,
   "id": "af1b4690-14a2-4d79-b53b-ed841c73a7b2",
   "metadata": {},
   "outputs": [],
   "source": [
    "cnn.add(tf.keras.layers.Conv2D(filters=512,kernel_size=3,padding='same',activation='relu',input_shape=[128,128,3]))\n",
    "cnn.add(tf.keras.layers.Conv2D(filters=512,kernel_size=3,activation='relu'))\n",
    "cnn.add(tf.keras.layers.MaxPool2D(pool_size=2,strides=2))"
   ]
  },
  {
   "cell_type": "code",
   "execution_count": 21,
   "id": "8cf7a38b-59f6-4623-90dd-2798f32964b6",
   "metadata": {},
   "outputs": [],
   "source": [
    "# cnn.add(tf.keras.layers.Conv2D(filters=1024,kernel_size=3,padding='same',activation='relu',input_shape=[224,224,1]))\n",
    "# cnn.add(tf.keras.layers.Conv2D(filters=1024,kernel_size=3,activation='relu'))\n",
    "# cnn.add(tf.keras.layers.MaxPool2D(pool_size=2,strides=2))"
   ]
  },
  {
   "cell_type": "code",
   "execution_count": 23,
   "id": "0033c9f1-4612-4bff-b254-cbe82f239f78",
   "metadata": {},
   "outputs": [],
   "source": [
    "cnn.add(tf.keras.layers.Dropout(0.3))"
   ]
  },
  {
   "cell_type": "code",
   "execution_count": 25,
   "id": "0e6c6995-e78b-4630-af29-1888979f383d",
   "metadata": {},
   "outputs": [],
   "source": [
    "cnn.add(tf.keras.layers.Flatten())\n"
   ]
  },
  {
   "cell_type": "code",
   "execution_count": 27,
   "id": "c330ac5a-38a8-43a9-868e-bdb77ea8c6fc",
   "metadata": {},
   "outputs": [],
   "source": [
    "cnn.add(tf.keras.layers.Dense(516, activation='relu'))   "
   ]
  },
  {
   "cell_type": "code",
   "execution_count": 29,
   "id": "87f1a432-352b-4f56-85fa-3a58118588e8",
   "metadata": {},
   "outputs": [],
   "source": [
    "cnn.add(tf.keras.layers.Dropout(0.4))  # Dropout to prevent overfitting"
   ]
  },
  {
   "cell_type": "code",
   "execution_count": 31,
   "id": "f8989bfa-3759-47b5-bcde-c82c199e14bd",
   "metadata": {},
   "outputs": [],
   "source": [
    "cnn.add(tf.keras.layers.Dense(5, activation='softmax'))"
   ]
  },
  {
   "cell_type": "code",
   "execution_count": 33,
   "id": "fe169f2d-2f98-4eef-b638-4cbb15ac1aaa",
   "metadata": {},
   "outputs": [
    {
     "data": {
      "text/html": [
       "<pre style=\"white-space:pre;overflow-x:auto;line-height:normal;font-family:Menlo,'DejaVu Sans Mono',consolas,'Courier New',monospace\"><span style=\"font-weight: bold\">Model: \"sequential\"</span>\n",
       "</pre>\n"
      ],
      "text/plain": [
       "\u001b[1mModel: \"sequential\"\u001b[0m\n"
      ]
     },
     "metadata": {},
     "output_type": "display_data"
    },
    {
     "data": {
      "text/html": [
       "<pre style=\"white-space:pre;overflow-x:auto;line-height:normal;font-family:Menlo,'DejaVu Sans Mono',consolas,'Courier New',monospace\">┏━━━━━━━━━━━━━━━━━━━━━━━━━━━━━━━━━┳━━━━━━━━━━━━━━━━━━━━━━━━┳━━━━━━━━━━━━━━━┓\n",
       "┃<span style=\"font-weight: bold\"> Layer (type)                    </span>┃<span style=\"font-weight: bold\"> Output Shape           </span>┃<span style=\"font-weight: bold\">       Param # </span>┃\n",
       "┡━━━━━━━━━━━━━━━━━━━━━━━━━━━━━━━━━╇━━━━━━━━━━━━━━━━━━━━━━━━╇━━━━━━━━━━━━━━━┩\n",
       "│ conv2d (<span style=\"color: #0087ff; text-decoration-color: #0087ff\">Conv2D</span>)                 │ (<span style=\"color: #00d7ff; text-decoration-color: #00d7ff\">None</span>, <span style=\"color: #00af00; text-decoration-color: #00af00\">128</span>, <span style=\"color: #00af00; text-decoration-color: #00af00\">128</span>, <span style=\"color: #00af00; text-decoration-color: #00af00\">32</span>)   │           <span style=\"color: #00af00; text-decoration-color: #00af00\">896</span> │\n",
       "├─────────────────────────────────┼────────────────────────┼───────────────┤\n",
       "│ conv2d_1 (<span style=\"color: #0087ff; text-decoration-color: #0087ff\">Conv2D</span>)               │ (<span style=\"color: #00d7ff; text-decoration-color: #00d7ff\">None</span>, <span style=\"color: #00af00; text-decoration-color: #00af00\">126</span>, <span style=\"color: #00af00; text-decoration-color: #00af00\">126</span>, <span style=\"color: #00af00; text-decoration-color: #00af00\">32</span>)   │         <span style=\"color: #00af00; text-decoration-color: #00af00\">9,248</span> │\n",
       "├─────────────────────────────────┼────────────────────────┼───────────────┤\n",
       "│ max_pooling2d (<span style=\"color: #0087ff; text-decoration-color: #0087ff\">MaxPooling2D</span>)    │ (<span style=\"color: #00d7ff; text-decoration-color: #00d7ff\">None</span>, <span style=\"color: #00af00; text-decoration-color: #00af00\">63</span>, <span style=\"color: #00af00; text-decoration-color: #00af00\">63</span>, <span style=\"color: #00af00; text-decoration-color: #00af00\">32</span>)     │             <span style=\"color: #00af00; text-decoration-color: #00af00\">0</span> │\n",
       "├─────────────────────────────────┼────────────────────────┼───────────────┤\n",
       "│ conv2d_2 (<span style=\"color: #0087ff; text-decoration-color: #0087ff\">Conv2D</span>)               │ (<span style=\"color: #00d7ff; text-decoration-color: #00d7ff\">None</span>, <span style=\"color: #00af00; text-decoration-color: #00af00\">63</span>, <span style=\"color: #00af00; text-decoration-color: #00af00\">63</span>, <span style=\"color: #00af00; text-decoration-color: #00af00\">64</span>)     │        <span style=\"color: #00af00; text-decoration-color: #00af00\">18,496</span> │\n",
       "├─────────────────────────────────┼────────────────────────┼───────────────┤\n",
       "│ conv2d_3 (<span style=\"color: #0087ff; text-decoration-color: #0087ff\">Conv2D</span>)               │ (<span style=\"color: #00d7ff; text-decoration-color: #00d7ff\">None</span>, <span style=\"color: #00af00; text-decoration-color: #00af00\">61</span>, <span style=\"color: #00af00; text-decoration-color: #00af00\">61</span>, <span style=\"color: #00af00; text-decoration-color: #00af00\">64</span>)     │        <span style=\"color: #00af00; text-decoration-color: #00af00\">36,928</span> │\n",
       "├─────────────────────────────────┼────────────────────────┼───────────────┤\n",
       "│ max_pooling2d_1 (<span style=\"color: #0087ff; text-decoration-color: #0087ff\">MaxPooling2D</span>)  │ (<span style=\"color: #00d7ff; text-decoration-color: #00d7ff\">None</span>, <span style=\"color: #00af00; text-decoration-color: #00af00\">30</span>, <span style=\"color: #00af00; text-decoration-color: #00af00\">30</span>, <span style=\"color: #00af00; text-decoration-color: #00af00\">64</span>)     │             <span style=\"color: #00af00; text-decoration-color: #00af00\">0</span> │\n",
       "├─────────────────────────────────┼────────────────────────┼───────────────┤\n",
       "│ conv2d_4 (<span style=\"color: #0087ff; text-decoration-color: #0087ff\">Conv2D</span>)               │ (<span style=\"color: #00d7ff; text-decoration-color: #00d7ff\">None</span>, <span style=\"color: #00af00; text-decoration-color: #00af00\">30</span>, <span style=\"color: #00af00; text-decoration-color: #00af00\">30</span>, <span style=\"color: #00af00; text-decoration-color: #00af00\">128</span>)    │        <span style=\"color: #00af00; text-decoration-color: #00af00\">73,856</span> │\n",
       "├─────────────────────────────────┼────────────────────────┼───────────────┤\n",
       "│ conv2d_5 (<span style=\"color: #0087ff; text-decoration-color: #0087ff\">Conv2D</span>)               │ (<span style=\"color: #00d7ff; text-decoration-color: #00d7ff\">None</span>, <span style=\"color: #00af00; text-decoration-color: #00af00\">28</span>, <span style=\"color: #00af00; text-decoration-color: #00af00\">28</span>, <span style=\"color: #00af00; text-decoration-color: #00af00\">128</span>)    │       <span style=\"color: #00af00; text-decoration-color: #00af00\">147,584</span> │\n",
       "├─────────────────────────────────┼────────────────────────┼───────────────┤\n",
       "│ max_pooling2d_2 (<span style=\"color: #0087ff; text-decoration-color: #0087ff\">MaxPooling2D</span>)  │ (<span style=\"color: #00d7ff; text-decoration-color: #00d7ff\">None</span>, <span style=\"color: #00af00; text-decoration-color: #00af00\">14</span>, <span style=\"color: #00af00; text-decoration-color: #00af00\">14</span>, <span style=\"color: #00af00; text-decoration-color: #00af00\">128</span>)    │             <span style=\"color: #00af00; text-decoration-color: #00af00\">0</span> │\n",
       "├─────────────────────────────────┼────────────────────────┼───────────────┤\n",
       "│ conv2d_6 (<span style=\"color: #0087ff; text-decoration-color: #0087ff\">Conv2D</span>)               │ (<span style=\"color: #00d7ff; text-decoration-color: #00d7ff\">None</span>, <span style=\"color: #00af00; text-decoration-color: #00af00\">14</span>, <span style=\"color: #00af00; text-decoration-color: #00af00\">14</span>, <span style=\"color: #00af00; text-decoration-color: #00af00\">264</span>)    │       <span style=\"color: #00af00; text-decoration-color: #00af00\">304,392</span> │\n",
       "├─────────────────────────────────┼────────────────────────┼───────────────┤\n",
       "│ conv2d_7 (<span style=\"color: #0087ff; text-decoration-color: #0087ff\">Conv2D</span>)               │ (<span style=\"color: #00d7ff; text-decoration-color: #00d7ff\">None</span>, <span style=\"color: #00af00; text-decoration-color: #00af00\">12</span>, <span style=\"color: #00af00; text-decoration-color: #00af00\">12</span>, <span style=\"color: #00af00; text-decoration-color: #00af00\">264</span>)    │       <span style=\"color: #00af00; text-decoration-color: #00af00\">627,528</span> │\n",
       "├─────────────────────────────────┼────────────────────────┼───────────────┤\n",
       "│ max_pooling2d_3 (<span style=\"color: #0087ff; text-decoration-color: #0087ff\">MaxPooling2D</span>)  │ (<span style=\"color: #00d7ff; text-decoration-color: #00d7ff\">None</span>, <span style=\"color: #00af00; text-decoration-color: #00af00\">6</span>, <span style=\"color: #00af00; text-decoration-color: #00af00\">6</span>, <span style=\"color: #00af00; text-decoration-color: #00af00\">264</span>)      │             <span style=\"color: #00af00; text-decoration-color: #00af00\">0</span> │\n",
       "├─────────────────────────────────┼────────────────────────┼───────────────┤\n",
       "│ conv2d_8 (<span style=\"color: #0087ff; text-decoration-color: #0087ff\">Conv2D</span>)               │ (<span style=\"color: #00d7ff; text-decoration-color: #00d7ff\">None</span>, <span style=\"color: #00af00; text-decoration-color: #00af00\">6</span>, <span style=\"color: #00af00; text-decoration-color: #00af00\">6</span>, <span style=\"color: #00af00; text-decoration-color: #00af00\">512</span>)      │     <span style=\"color: #00af00; text-decoration-color: #00af00\">1,217,024</span> │\n",
       "├─────────────────────────────────┼────────────────────────┼───────────────┤\n",
       "│ conv2d_9 (<span style=\"color: #0087ff; text-decoration-color: #0087ff\">Conv2D</span>)               │ (<span style=\"color: #00d7ff; text-decoration-color: #00d7ff\">None</span>, <span style=\"color: #00af00; text-decoration-color: #00af00\">4</span>, <span style=\"color: #00af00; text-decoration-color: #00af00\">4</span>, <span style=\"color: #00af00; text-decoration-color: #00af00\">512</span>)      │     <span style=\"color: #00af00; text-decoration-color: #00af00\">2,359,808</span> │\n",
       "├─────────────────────────────────┼────────────────────────┼───────────────┤\n",
       "│ max_pooling2d_4 (<span style=\"color: #0087ff; text-decoration-color: #0087ff\">MaxPooling2D</span>)  │ (<span style=\"color: #00d7ff; text-decoration-color: #00d7ff\">None</span>, <span style=\"color: #00af00; text-decoration-color: #00af00\">2</span>, <span style=\"color: #00af00; text-decoration-color: #00af00\">2</span>, <span style=\"color: #00af00; text-decoration-color: #00af00\">512</span>)      │             <span style=\"color: #00af00; text-decoration-color: #00af00\">0</span> │\n",
       "├─────────────────────────────────┼────────────────────────┼───────────────┤\n",
       "│ dropout (<span style=\"color: #0087ff; text-decoration-color: #0087ff\">Dropout</span>)               │ (<span style=\"color: #00d7ff; text-decoration-color: #00d7ff\">None</span>, <span style=\"color: #00af00; text-decoration-color: #00af00\">2</span>, <span style=\"color: #00af00; text-decoration-color: #00af00\">2</span>, <span style=\"color: #00af00; text-decoration-color: #00af00\">512</span>)      │             <span style=\"color: #00af00; text-decoration-color: #00af00\">0</span> │\n",
       "├─────────────────────────────────┼────────────────────────┼───────────────┤\n",
       "│ flatten (<span style=\"color: #0087ff; text-decoration-color: #0087ff\">Flatten</span>)               │ (<span style=\"color: #00d7ff; text-decoration-color: #00d7ff\">None</span>, <span style=\"color: #00af00; text-decoration-color: #00af00\">2048</span>)           │             <span style=\"color: #00af00; text-decoration-color: #00af00\">0</span> │\n",
       "├─────────────────────────────────┼────────────────────────┼───────────────┤\n",
       "│ dense (<span style=\"color: #0087ff; text-decoration-color: #0087ff\">Dense</span>)                   │ (<span style=\"color: #00d7ff; text-decoration-color: #00d7ff\">None</span>, <span style=\"color: #00af00; text-decoration-color: #00af00\">516</span>)            │     <span style=\"color: #00af00; text-decoration-color: #00af00\">1,057,284</span> │\n",
       "├─────────────────────────────────┼────────────────────────┼───────────────┤\n",
       "│ dropout_1 (<span style=\"color: #0087ff; text-decoration-color: #0087ff\">Dropout</span>)             │ (<span style=\"color: #00d7ff; text-decoration-color: #00d7ff\">None</span>, <span style=\"color: #00af00; text-decoration-color: #00af00\">516</span>)            │             <span style=\"color: #00af00; text-decoration-color: #00af00\">0</span> │\n",
       "├─────────────────────────────────┼────────────────────────┼───────────────┤\n",
       "│ dense_1 (<span style=\"color: #0087ff; text-decoration-color: #0087ff\">Dense</span>)                 │ (<span style=\"color: #00d7ff; text-decoration-color: #00d7ff\">None</span>, <span style=\"color: #00af00; text-decoration-color: #00af00\">5</span>)              │         <span style=\"color: #00af00; text-decoration-color: #00af00\">2,585</span> │\n",
       "└─────────────────────────────────┴────────────────────────┴───────────────┘\n",
       "</pre>\n"
      ],
      "text/plain": [
       "┏━━━━━━━━━━━━━━━━━━━━━━━━━━━━━━━━━┳━━━━━━━━━━━━━━━━━━━━━━━━┳━━━━━━━━━━━━━━━┓\n",
       "┃\u001b[1m \u001b[0m\u001b[1mLayer (type)                   \u001b[0m\u001b[1m \u001b[0m┃\u001b[1m \u001b[0m\u001b[1mOutput Shape          \u001b[0m\u001b[1m \u001b[0m┃\u001b[1m \u001b[0m\u001b[1m      Param #\u001b[0m\u001b[1m \u001b[0m┃\n",
       "┡━━━━━━━━━━━━━━━━━━━━━━━━━━━━━━━━━╇━━━━━━━━━━━━━━━━━━━━━━━━╇━━━━━━━━━━━━━━━┩\n",
       "│ conv2d (\u001b[38;5;33mConv2D\u001b[0m)                 │ (\u001b[38;5;45mNone\u001b[0m, \u001b[38;5;34m128\u001b[0m, \u001b[38;5;34m128\u001b[0m, \u001b[38;5;34m32\u001b[0m)   │           \u001b[38;5;34m896\u001b[0m │\n",
       "├─────────────────────────────────┼────────────────────────┼───────────────┤\n",
       "│ conv2d_1 (\u001b[38;5;33mConv2D\u001b[0m)               │ (\u001b[38;5;45mNone\u001b[0m, \u001b[38;5;34m126\u001b[0m, \u001b[38;5;34m126\u001b[0m, \u001b[38;5;34m32\u001b[0m)   │         \u001b[38;5;34m9,248\u001b[0m │\n",
       "├─────────────────────────────────┼────────────────────────┼───────────────┤\n",
       "│ max_pooling2d (\u001b[38;5;33mMaxPooling2D\u001b[0m)    │ (\u001b[38;5;45mNone\u001b[0m, \u001b[38;5;34m63\u001b[0m, \u001b[38;5;34m63\u001b[0m, \u001b[38;5;34m32\u001b[0m)     │             \u001b[38;5;34m0\u001b[0m │\n",
       "├─────────────────────────────────┼────────────────────────┼───────────────┤\n",
       "│ conv2d_2 (\u001b[38;5;33mConv2D\u001b[0m)               │ (\u001b[38;5;45mNone\u001b[0m, \u001b[38;5;34m63\u001b[0m, \u001b[38;5;34m63\u001b[0m, \u001b[38;5;34m64\u001b[0m)     │        \u001b[38;5;34m18,496\u001b[0m │\n",
       "├─────────────────────────────────┼────────────────────────┼───────────────┤\n",
       "│ conv2d_3 (\u001b[38;5;33mConv2D\u001b[0m)               │ (\u001b[38;5;45mNone\u001b[0m, \u001b[38;5;34m61\u001b[0m, \u001b[38;5;34m61\u001b[0m, \u001b[38;5;34m64\u001b[0m)     │        \u001b[38;5;34m36,928\u001b[0m │\n",
       "├─────────────────────────────────┼────────────────────────┼───────────────┤\n",
       "│ max_pooling2d_1 (\u001b[38;5;33mMaxPooling2D\u001b[0m)  │ (\u001b[38;5;45mNone\u001b[0m, \u001b[38;5;34m30\u001b[0m, \u001b[38;5;34m30\u001b[0m, \u001b[38;5;34m64\u001b[0m)     │             \u001b[38;5;34m0\u001b[0m │\n",
       "├─────────────────────────────────┼────────────────────────┼───────────────┤\n",
       "│ conv2d_4 (\u001b[38;5;33mConv2D\u001b[0m)               │ (\u001b[38;5;45mNone\u001b[0m, \u001b[38;5;34m30\u001b[0m, \u001b[38;5;34m30\u001b[0m, \u001b[38;5;34m128\u001b[0m)    │        \u001b[38;5;34m73,856\u001b[0m │\n",
       "├─────────────────────────────────┼────────────────────────┼───────────────┤\n",
       "│ conv2d_5 (\u001b[38;5;33mConv2D\u001b[0m)               │ (\u001b[38;5;45mNone\u001b[0m, \u001b[38;5;34m28\u001b[0m, \u001b[38;5;34m28\u001b[0m, \u001b[38;5;34m128\u001b[0m)    │       \u001b[38;5;34m147,584\u001b[0m │\n",
       "├─────────────────────────────────┼────────────────────────┼───────────────┤\n",
       "│ max_pooling2d_2 (\u001b[38;5;33mMaxPooling2D\u001b[0m)  │ (\u001b[38;5;45mNone\u001b[0m, \u001b[38;5;34m14\u001b[0m, \u001b[38;5;34m14\u001b[0m, \u001b[38;5;34m128\u001b[0m)    │             \u001b[38;5;34m0\u001b[0m │\n",
       "├─────────────────────────────────┼────────────────────────┼───────────────┤\n",
       "│ conv2d_6 (\u001b[38;5;33mConv2D\u001b[0m)               │ (\u001b[38;5;45mNone\u001b[0m, \u001b[38;5;34m14\u001b[0m, \u001b[38;5;34m14\u001b[0m, \u001b[38;5;34m264\u001b[0m)    │       \u001b[38;5;34m304,392\u001b[0m │\n",
       "├─────────────────────────────────┼────────────────────────┼───────────────┤\n",
       "│ conv2d_7 (\u001b[38;5;33mConv2D\u001b[0m)               │ (\u001b[38;5;45mNone\u001b[0m, \u001b[38;5;34m12\u001b[0m, \u001b[38;5;34m12\u001b[0m, \u001b[38;5;34m264\u001b[0m)    │       \u001b[38;5;34m627,528\u001b[0m │\n",
       "├─────────────────────────────────┼────────────────────────┼───────────────┤\n",
       "│ max_pooling2d_3 (\u001b[38;5;33mMaxPooling2D\u001b[0m)  │ (\u001b[38;5;45mNone\u001b[0m, \u001b[38;5;34m6\u001b[0m, \u001b[38;5;34m6\u001b[0m, \u001b[38;5;34m264\u001b[0m)      │             \u001b[38;5;34m0\u001b[0m │\n",
       "├─────────────────────────────────┼────────────────────────┼───────────────┤\n",
       "│ conv2d_8 (\u001b[38;5;33mConv2D\u001b[0m)               │ (\u001b[38;5;45mNone\u001b[0m, \u001b[38;5;34m6\u001b[0m, \u001b[38;5;34m6\u001b[0m, \u001b[38;5;34m512\u001b[0m)      │     \u001b[38;5;34m1,217,024\u001b[0m │\n",
       "├─────────────────────────────────┼────────────────────────┼───────────────┤\n",
       "│ conv2d_9 (\u001b[38;5;33mConv2D\u001b[0m)               │ (\u001b[38;5;45mNone\u001b[0m, \u001b[38;5;34m4\u001b[0m, \u001b[38;5;34m4\u001b[0m, \u001b[38;5;34m512\u001b[0m)      │     \u001b[38;5;34m2,359,808\u001b[0m │\n",
       "├─────────────────────────────────┼────────────────────────┼───────────────┤\n",
       "│ max_pooling2d_4 (\u001b[38;5;33mMaxPooling2D\u001b[0m)  │ (\u001b[38;5;45mNone\u001b[0m, \u001b[38;5;34m2\u001b[0m, \u001b[38;5;34m2\u001b[0m, \u001b[38;5;34m512\u001b[0m)      │             \u001b[38;5;34m0\u001b[0m │\n",
       "├─────────────────────────────────┼────────────────────────┼───────────────┤\n",
       "│ dropout (\u001b[38;5;33mDropout\u001b[0m)               │ (\u001b[38;5;45mNone\u001b[0m, \u001b[38;5;34m2\u001b[0m, \u001b[38;5;34m2\u001b[0m, \u001b[38;5;34m512\u001b[0m)      │             \u001b[38;5;34m0\u001b[0m │\n",
       "├─────────────────────────────────┼────────────────────────┼───────────────┤\n",
       "│ flatten (\u001b[38;5;33mFlatten\u001b[0m)               │ (\u001b[38;5;45mNone\u001b[0m, \u001b[38;5;34m2048\u001b[0m)           │             \u001b[38;5;34m0\u001b[0m │\n",
       "├─────────────────────────────────┼────────────────────────┼───────────────┤\n",
       "│ dense (\u001b[38;5;33mDense\u001b[0m)                   │ (\u001b[38;5;45mNone\u001b[0m, \u001b[38;5;34m516\u001b[0m)            │     \u001b[38;5;34m1,057,284\u001b[0m │\n",
       "├─────────────────────────────────┼────────────────────────┼───────────────┤\n",
       "│ dropout_1 (\u001b[38;5;33mDropout\u001b[0m)             │ (\u001b[38;5;45mNone\u001b[0m, \u001b[38;5;34m516\u001b[0m)            │             \u001b[38;5;34m0\u001b[0m │\n",
       "├─────────────────────────────────┼────────────────────────┼───────────────┤\n",
       "│ dense_1 (\u001b[38;5;33mDense\u001b[0m)                 │ (\u001b[38;5;45mNone\u001b[0m, \u001b[38;5;34m5\u001b[0m)              │         \u001b[38;5;34m2,585\u001b[0m │\n",
       "└─────────────────────────────────┴────────────────────────┴───────────────┘\n"
      ]
     },
     "metadata": {},
     "output_type": "display_data"
    },
    {
     "data": {
      "text/html": [
       "<pre style=\"white-space:pre;overflow-x:auto;line-height:normal;font-family:Menlo,'DejaVu Sans Mono',consolas,'Courier New',monospace\"><span style=\"font-weight: bold\"> Total params: </span><span style=\"color: #00af00; text-decoration-color: #00af00\">5,855,629</span> (22.34 MB)\n",
       "</pre>\n"
      ],
      "text/plain": [
       "\u001b[1m Total params: \u001b[0m\u001b[38;5;34m5,855,629\u001b[0m (22.34 MB)\n"
      ]
     },
     "metadata": {},
     "output_type": "display_data"
    },
    {
     "data": {
      "text/html": [
       "<pre style=\"white-space:pre;overflow-x:auto;line-height:normal;font-family:Menlo,'DejaVu Sans Mono',consolas,'Courier New',monospace\"><span style=\"font-weight: bold\"> Trainable params: </span><span style=\"color: #00af00; text-decoration-color: #00af00\">5,855,629</span> (22.34 MB)\n",
       "</pre>\n"
      ],
      "text/plain": [
       "\u001b[1m Trainable params: \u001b[0m\u001b[38;5;34m5,855,629\u001b[0m (22.34 MB)\n"
      ]
     },
     "metadata": {},
     "output_type": "display_data"
    },
    {
     "data": {
      "text/html": [
       "<pre style=\"white-space:pre;overflow-x:auto;line-height:normal;font-family:Menlo,'DejaVu Sans Mono',consolas,'Courier New',monospace\"><span style=\"font-weight: bold\"> Non-trainable params: </span><span style=\"color: #00af00; text-decoration-color: #00af00\">0</span> (0.00 B)\n",
       "</pre>\n"
      ],
      "text/plain": [
       "\u001b[1m Non-trainable params: \u001b[0m\u001b[38;5;34m0\u001b[0m (0.00 B)\n"
      ]
     },
     "metadata": {},
     "output_type": "display_data"
    }
   ],
   "source": [
    "cnn.compile(optimizer=tf.keras.optimizers.Adam(\n",
    "    learning_rate=0.001),loss='categorical_crossentropy',metrics=['accuracy'])\n",
    "cnn.summary()"
   ]
  },
  {
   "cell_type": "code",
   "execution_count": 35,
   "id": "9979be3d-3a5b-47e7-b436-47e4d27a3367",
   "metadata": {},
   "outputs": [
    {
     "name": "stdout",
     "output_type": "stream",
     "text": [
      "Epoch 1/10\n",
      "\u001b[1m190/190\u001b[0m \u001b[32m━━━━━━━━━━━━━━━━━━━━\u001b[0m\u001b[37m\u001b[0m \u001b[1m200s\u001b[0m 1s/step - accuracy: 0.2482 - loss: 2.1329 - val_accuracy: 0.4258 - val_loss: 1.3222\n",
      "Epoch 2/10\n",
      "\u001b[1m190/190\u001b[0m \u001b[32m━━━━━━━━━━━━━━━━━━━━\u001b[0m\u001b[37m\u001b[0m \u001b[1m181s\u001b[0m 949ms/step - accuracy: 0.4837 - loss: 1.1461 - val_accuracy: 0.5901 - val_loss: 0.8794\n",
      "Epoch 3/10\n",
      "\u001b[1m190/190\u001b[0m \u001b[32m━━━━━━━━━━━━━━━━━━━━\u001b[0m\u001b[37m\u001b[0m \u001b[1m184s\u001b[0m 963ms/step - accuracy: 0.6095 - loss: 1.0523 - val_accuracy: 0.6243 - val_loss: 0.8773\n",
      "Epoch 4/10\n",
      "\u001b[1m190/190\u001b[0m \u001b[32m━━━━━━━━━━━━━━━━━━━━\u001b[0m\u001b[37m\u001b[0m \u001b[1m181s\u001b[0m 949ms/step - accuracy: 0.6153 - loss: 0.9015 - val_accuracy: 0.6710 - val_loss: 0.7762\n",
      "Epoch 5/10\n",
      "\u001b[1m190/190\u001b[0m \u001b[32m━━━━━━━━━━━━━━━━━━━━\u001b[0m\u001b[37m\u001b[0m \u001b[1m469s\u001b[0m 2s/step - accuracy: 0.6680 - loss: 0.8010 - val_accuracy: 0.6918 - val_loss: 0.7189\n",
      "Epoch 6/10\n",
      "\u001b[1m190/190\u001b[0m \u001b[32m━━━━━━━━━━━━━━━━━━━━\u001b[0m\u001b[37m\u001b[0m \u001b[1m180s\u001b[0m 944ms/step - accuracy: 0.6965 - loss: 0.7123 - val_accuracy: 0.6983 - val_loss: 0.6926\n",
      "Epoch 7/10\n",
      "\u001b[1m190/190\u001b[0m \u001b[32m━━━━━━━━━━━━━━━━━━━━\u001b[0m\u001b[37m\u001b[0m \u001b[1m187s\u001b[0m 979ms/step - accuracy: 0.7200 - loss: 0.6621 - val_accuracy: 0.7156 - val_loss: 0.6606\n",
      "Epoch 8/10\n",
      "\u001b[1m190/190\u001b[0m \u001b[32m━━━━━━━━━━━━━━━━━━━━\u001b[0m\u001b[37m\u001b[0m \u001b[1m185s\u001b[0m 973ms/step - accuracy: 0.7438 - loss: 0.6161 - val_accuracy: 0.7285 - val_loss: 0.6543\n",
      "Epoch 9/10\n",
      "\u001b[1m190/190\u001b[0m \u001b[32m━━━━━━━━━━━━━━━━━━━━\u001b[0m\u001b[37m\u001b[0m \u001b[1m191s\u001b[0m 1s/step - accuracy: 0.7575 - loss: 0.5782 - val_accuracy: 0.7166 - val_loss: 0.6661\n",
      "Epoch 10/10\n",
      "\u001b[1m190/190\u001b[0m \u001b[32m━━━━━━━━━━━━━━━━━━━━\u001b[0m\u001b[37m\u001b[0m \u001b[1m191s\u001b[0m 1s/step - accuracy: 0.7598 - loss: 0.5786 - val_accuracy: 0.7489 - val_loss: 0.6126\n"
     ]
    }
   ],
   "source": [
    "training_history = cnn.fit(x=training_set,validation_data=validation_set,epochs=10)"
   ]
  },
  {
   "cell_type": "code",
   "execution_count": 37,
   "id": "e39d038e-2acc-448d-a41f-8787ecfd3e53",
   "metadata": {},
   "outputs": [
    {
     "name": "stdout",
     "output_type": "stream",
     "text": [
      "\u001b[1m190/190\u001b[0m \u001b[32m━━━━━━━━━━━━━━━━━━━━\u001b[0m\u001b[37m\u001b[0m \u001b[1m40s\u001b[0m 210ms/step - accuracy: 0.8025 - loss: 0.4506\n",
      "Training accuracy: 0.8075652718544006\n"
     ]
    }
   ],
   "source": [
    "# Training set Accuracy\n",
    "train_loss, train_acc = cnn.evaluate(training_set)\n",
    "print('Training accuracy:', train_acc)"
   ]
  },
  {
   "cell_type": "code",
   "execution_count": 41,
   "id": "80806ba1-7c8a-4d0a-ba1c-b157b9100142",
   "metadata": {},
   "outputs": [
    {
     "name": "stdout",
     "output_type": "stream",
     "text": [
      "\u001b[1m63/63\u001b[0m \u001b[32m━━━━━━━━━━━━━━━━━━━━\u001b[0m\u001b[37m\u001b[0m \u001b[1m13s\u001b[0m 194ms/step - accuracy: 0.7384 - loss: 0.6207\n",
      "validation accuracy: 0.7488833665847778\n"
     ]
    }
   ],
   "source": [
    "#Validation set Accuracy\n",
    "validation_loss, validation_acc = cnn.evaluate(validation_set)\n",
    "print('validation accuracy:', validation_acc)"
   ]
  },
  {
   "cell_type": "code",
   "execution_count": 43,
   "id": "a83f3226-6805-4889-aff4-ec05d366c379",
   "metadata": {},
   "outputs": [],
   "source": [
    "cnn.save('trained_lungs_cancer_disease_model.keras')"
   ]
  },
  {
   "cell_type": "code",
   "execution_count": 45,
   "id": "3a54556a-d048-4114-97e5-99303a4fcb47",
   "metadata": {},
   "outputs": [
    {
     "data": {
      "text/plain": [
       "{'accuracy': [0.3031053841114044,\n",
       "  0.5252725481987,\n",
       "  0.608688473701477,\n",
       "  0.6182689070701599,\n",
       "  0.665840744972229,\n",
       "  0.6954079866409302,\n",
       "  0.7135778069496155,\n",
       "  0.7419887781143188,\n",
       "  0.7476049065589905,\n",
       "  0.7611496448516846],\n",
       " 'loss': [1.628190040588379,\n",
       "  1.069617509841919,\n",
       "  1.5035905838012695,\n",
       "  0.8834150433540344,\n",
       "  0.8044710159301758,\n",
       "  0.7152304649353027,\n",
       "  0.6639009714126587,\n",
       "  0.6160210967063904,\n",
       "  0.5978503227233887,\n",
       "  0.5720585584640503],\n",
       " 'val_accuracy': [0.42580646276474,\n",
       "  0.5900744199752808,\n",
       "  0.6243176460266113,\n",
       "  0.6709677577018738,\n",
       "  0.6918114423751831,\n",
       "  0.6982630491256714,\n",
       "  0.7156327366828918,\n",
       "  0.7285360097885132,\n",
       "  0.7166253328323364,\n",
       "  0.7488833665847778],\n",
       " 'val_loss': [1.3221817016601562,\n",
       "  0.8794422149658203,\n",
       "  0.8773379325866699,\n",
       "  0.7761989831924438,\n",
       "  0.7188860774040222,\n",
       "  0.6926159262657166,\n",
       "  0.660554826259613,\n",
       "  0.654272735118866,\n",
       "  0.6660698652267456,\n",
       "  0.6126244068145752]}"
      ]
     },
     "execution_count": 45,
     "metadata": {},
     "output_type": "execute_result"
    }
   ],
   "source": [
    "training_history.history"
   ]
  },
  {
   "cell_type": "code",
   "execution_count": 47,
   "id": "57c1cdc9-50f7-42f2-a7ca-883f0e3a8347",
   "metadata": {},
   "outputs": [
    {
     "data": {
      "image/png": "[encoded data removed]",
      "text/plain": [
       "<Figure size 640x480 with 1 Axes>"
      ]
     },
     "metadata": {},
     "output_type": "display_data"
    }
   ],
   "source": [
    "epochs = [i for i in range(1,11)]\n",
    "plt.plot(epochs,training_history.history['accuracy'],color='red',label='Training Accuracy')\n",
    "plt.plot(epochs,training_history.history['val_accuracy'],color='blue',label='Validation Accuracy')\n",
    "plt.xlabel('No. of Epochs')\n",
    "plt.title('Visualization of Accuracy Result')\n",
    "plt.legend()\n",
    "plt.show()"
   ]
  },
  {
   "cell_type": "code",
   "execution_count": 49,
   "id": "2370f271-ee02-4bc0-8915-56a0559d6016",
   "metadata": {},
   "outputs": [],
   "source": [
    "class_name = validation_set.class_names"
   ]
  },
  {
   "cell_type": "code",
   "execution_count": 57,
   "id": "6eb9c2e6-1aaa-454c-bd4c-2b94a14e366d",
   "metadata": {},
   "outputs": [
    {
     "name": "stdout",
     "output_type": "stream",
     "text": [
      "Found 2015 files belonging to 5 classes.\n"
     ]
    }
   ],
   "source": [
    "test_set = tf.keras.utils.image_dataset_from_directory(\n",
    "    'val',\n",
    "    labels=\"inferred\",\n",
    "    label_mode=\"categorical\",\n",
    "    class_names=None,\n",
    "    color_mode=\"rgb\",\n",
    "    batch_size=1,\n",
    "    image_size=(128, 128),\n",
    "    shuffle=False,\n",
    "    seed=None,\n",
    "    validation_split=None,\n",
    "    subset=None,\n",
    "    interpolation=\"bilinear\",\n",
    "    follow_links=False,\n",
    "    crop_to_aspect_ratio=False\n",
    ")"
   ]
  },
  {
   "cell_type": "code",
   "execution_count": 59,
   "id": "8fdbc4ac-e3df-477a-a589-f43aa234be3e",
   "metadata": {},
   "outputs": [
    {
     "name": "stdout",
     "output_type": "stream",
     "text": [
      "\u001b[1m2015/2015\u001b[0m \u001b[32m━━━━━━━━━━━━━━━━━━━━\u001b[0m\u001b[37m\u001b[0m \u001b[1m34s\u001b[0m 17ms/step\n"
     ]
    }
   ],
   "source": [
    "y_pred = cnn.predict(test_set)\n",
    "predicted_categories = tf.argmax(y_pred, axis=1) "
   ]
  },
  {
   "cell_type": "code",
   "execution_count": 61,
   "id": "c6fc6b8b-cc5d-4c9d-9f4f-7fe092a98d4f",
   "metadata": {},
   "outputs": [
    {
     "data": {
      "text/plain": [
       "<tf.Tensor: shape=(2015,), dtype=int64, numpy=array([0, 0, 0, ..., 4, 4, 4], dtype=int64)>"
      ]
     },
     "execution_count": 61,
     "metadata": {},
     "output_type": "execute_result"
    }
   ],
   "source": [
    "true_categories = tf.concat([y for x, y in test_set], axis=0)\n",
    "Y_true = tf.argmax(true_categories, axis=1)\n",
    "Y_true"
   ]
  },
  {
   "cell_type": "code",
   "execution_count": 63,
   "id": "3df89512-640a-41b5-bf0f-947e40e90692",
   "metadata": {},
   "outputs": [
    {
     "data": {
      "text/plain": [
       "<tf.Tensor: shape=(2015,), dtype=int64, numpy=array([0, 0, 0, ..., 1, 4, 4], dtype=int64)>"
      ]
     },
     "execution_count": 63,
     "metadata": {},
     "output_type": "execute_result"
    }
   ],
   "source": [
    "predicted_categories"
   ]
  },
  {
   "cell_type": "code",
   "execution_count": 65,
   "id": "91498601-3eb5-4109-8ae8-0091004a1401",
   "metadata": {},
   "outputs": [],
   "source": [
    "from sklearn.metrics import confusion_matrix,classification_report\n",
    "cm = confusion_matrix(Y_true,predicted_categories)"
   ]
  },
  {
   "cell_type": "code",
   "execution_count": 67,
   "id": "4e60dc59-4c56-492f-83eb-9f94a345ea48",
   "metadata": {},
   "outputs": [
    {
     "name": "stdout",
     "output_type": "stream",
     "text": [
      "                      precision    recall  f1-score   support\n",
      "\n",
      " Bacterial Pneumonia       0.72      0.55      0.63       401\n",
      "Corona Virus Disease       0.85      0.83      0.84       406\n",
      "              Normal       0.80      0.84      0.82       401\n",
      "        Tuberculosis       0.79      0.90      0.84       406\n",
      "     Viral Pneumonia       0.58      0.62      0.60       401\n",
      "\n",
      "            accuracy                           0.75      2015\n",
      "           macro avg       0.75      0.75      0.75      2015\n",
      "        weighted avg       0.75      0.75      0.75      2015\n",
      "\n"
     ]
    }
   ],
   "source": [
    "# Precision Recall Fscore\n",
    "print(classification_report(Y_true,predicted_categories,target_names=class_name))"
   ]
  },
  {
   "cell_type": "code",
   "execution_count": 73,
   "id": "b1f0d793-b8e1-469c-9bf6-ffeba435f432",
   "metadata": {},
   "outputs": [
    {
     "data": {
      "image/png": "[encoded data removed]",
      "text/plain": [
       "<Figure size 1000x500 with 2 Axes>"
      ]
     },
     "metadata": {},
     "output_type": "display_data"
    }
   ],
   "source": [
    "plt.figure(figsize=(10, 5))\n",
    "sns.heatmap(cm,annot=True,annot_kws={\"size\": 10})\n",
    "\n",
    "plt.xlabel('Predicted Class',fontsize = 10)\n",
    "plt.ylabel('Actual Class',fontsize = 10)\n",
    "plt.title('Lungs_cancer_prediction_disease',fontsize = 25)\n",
    "plt.show()"
   ]
  },
  {
   "cell_type": "code",
   "execution_count": null,
   "id": "b18ef2ed-09b5-4b83-b22b-69956e421e49",
   "metadata": {},
   "outputs": [],
   "source": []
  }
 ],
 "metadata": {
  "kernelspec": {
   "display_name": "Python [conda env:base] *",
   "language": "python",
   "name": "conda-base-py"
  },
  "language_info": {
   "codemirror_mode": {
    "name": "ipython",
    "version": 3
   },
   "file_extension": ".py",
   "mimetype": "text/x-python",
   "name": "python",
   "nbconvert_exporter": "python",
   "pygments_lexer": "ipython3",
   "version": "3.12.7"
  }
 },
 "nbformat": 4,
 "nbformat_minor": 5
}
